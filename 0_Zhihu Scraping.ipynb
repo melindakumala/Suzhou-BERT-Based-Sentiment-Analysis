{
 "cells": [
  {
   "cell_type": "code",
   "execution_count": 10,
   "id": "090b2364-045f-403e-b07d-0a63f7bcf4e8",
   "metadata": {},
   "outputs": [
    {
     "name": "stdout",
     "output_type": "stream",
     "text": [
      "Requirement already satisfied: selenium in c:\\users\\melin\\anaconda3\\lib\\site-packages (4.34.2)\n",
      "Collecting webdriver-manager\n",
      "  Downloading webdriver_manager-4.0.2-py2.py3-none-any.whl.metadata (12 kB)\n",
      "Requirement already satisfied: pandas in c:\\users\\melin\\anaconda3\\lib\\site-packages (2.2.2)\n",
      "Requirement already satisfied: urllib3~=2.5.0 in c:\\users\\melin\\anaconda3\\lib\\site-packages (from urllib3[socks]~=2.5.0->selenium) (2.5.0)\n",
      "Requirement already satisfied: trio~=0.30.0 in c:\\users\\melin\\anaconda3\\lib\\site-packages (from selenium) (0.30.0)\n",
      "Requirement already satisfied: trio-websocket~=0.12.2 in c:\\users\\melin\\anaconda3\\lib\\site-packages (from selenium) (0.12.2)\n",
      "Requirement already satisfied: certifi>=2025.6.15 in c:\\users\\melin\\anaconda3\\lib\\site-packages (from selenium) (2025.7.14)\n",
      "Requirement already satisfied: typing_extensions~=4.14.0 in c:\\users\\melin\\anaconda3\\lib\\site-packages (from selenium) (4.14.1)\n",
      "Requirement already satisfied: websocket-client~=1.8.0 in c:\\users\\melin\\anaconda3\\lib\\site-packages (from selenium) (1.8.0)\n",
      "Requirement already satisfied: requests in c:\\users\\melin\\anaconda3\\lib\\site-packages (from webdriver-manager) (2.32.3)\n",
      "Requirement already satisfied: python-dotenv in c:\\users\\melin\\anaconda3\\lib\\site-packages (from webdriver-manager) (0.21.0)\n",
      "Requirement already satisfied: packaging in c:\\users\\melin\\anaconda3\\lib\\site-packages (from webdriver-manager) (24.1)\n",
      "Requirement already satisfied: numpy>=1.26.0 in c:\\users\\melin\\anaconda3\\lib\\site-packages (from pandas) (1.26.4)\n",
      "Requirement already satisfied: python-dateutil>=2.8.2 in c:\\users\\melin\\anaconda3\\lib\\site-packages (from pandas) (2.9.0.post0)\n",
      "Requirement already satisfied: pytz>=2020.1 in c:\\users\\melin\\anaconda3\\lib\\site-packages (from pandas) (2024.1)\n",
      "Requirement already satisfied: tzdata>=2022.7 in c:\\users\\melin\\anaconda3\\lib\\site-packages (from pandas) (2023.3)\n",
      "Requirement already satisfied: six>=1.5 in c:\\users\\melin\\anaconda3\\lib\\site-packages (from python-dateutil>=2.8.2->pandas) (1.16.0)\n",
      "Requirement already satisfied: attrs>=23.2.0 in c:\\users\\melin\\anaconda3\\lib\\site-packages (from trio~=0.30.0->selenium) (25.3.0)\n",
      "Requirement already satisfied: sortedcontainers in c:\\users\\melin\\anaconda3\\lib\\site-packages (from trio~=0.30.0->selenium) (2.4.0)\n",
      "Requirement already satisfied: idna in c:\\users\\melin\\anaconda3\\lib\\site-packages (from trio~=0.30.0->selenium) (3.7)\n",
      "Requirement already satisfied: outcome in c:\\users\\melin\\anaconda3\\lib\\site-packages (from trio~=0.30.0->selenium) (1.3.0.post0)\n",
      "Requirement already satisfied: sniffio>=1.3.0 in c:\\users\\melin\\anaconda3\\lib\\site-packages (from trio~=0.30.0->selenium) (1.3.0)\n",
      "Requirement already satisfied: cffi>=1.14 in c:\\users\\melin\\anaconda3\\lib\\site-packages (from trio~=0.30.0->selenium) (1.17.1)\n",
      "Requirement already satisfied: wsproto>=0.14 in c:\\users\\melin\\anaconda3\\lib\\site-packages (from trio-websocket~=0.12.2->selenium) (1.2.0)\n",
      "Requirement already satisfied: pysocks!=1.5.7,<2.0,>=1.5.6 in c:\\users\\melin\\anaconda3\\lib\\site-packages (from urllib3[socks]~=2.5.0->selenium) (1.7.1)\n",
      "Requirement already satisfied: charset-normalizer<4,>=2 in c:\\users\\melin\\anaconda3\\lib\\site-packages (from requests->webdriver-manager) (3.3.2)\n",
      "Requirement already satisfied: pycparser in c:\\users\\melin\\anaconda3\\lib\\site-packages (from cffi>=1.14->trio~=0.30.0->selenium) (2.21)\n",
      "Requirement already satisfied: h11<1,>=0.9.0 in c:\\users\\melin\\anaconda3\\lib\\site-packages (from wsproto>=0.14->trio-websocket~=0.12.2->selenium) (0.14.0)\n",
      "Downloading webdriver_manager-4.0.2-py2.py3-none-any.whl (27 kB)\n",
      "Installing collected packages: webdriver-manager\n",
      "Successfully installed webdriver-manager-4.0.2\n"
     ]
    }
   ],
   "source": [
    "!pip install selenium webdriver-manager pandas"
   ]
  },
  {
   "cell_type": "code",
   "execution_count": 138,
   "id": "9956eb97-ed0c-4663-b658-4981267d2981",
   "metadata": {},
   "outputs": [
    {
     "name": "stdin",
     "output_type": "stream",
     "text": [
      "🔐 Log in to Zhihu manually, then press Enter here to continue... \n"
     ]
    },
    {
     "name": "stdout",
     "output_type": "stream",
     "text": [
      "✅ No more content to scroll.\n",
      "🔁 Finished scrolling after 17 scrolls.\n",
      "✅ Done. 11 answers saved to 'zhihu_answers_full.csv'\n"
     ]
    }
   ],
   "source": [
    "from selenium import webdriver\n",
    "from selenium.webdriver.chrome.service import Service\n",
    "from selenium.webdriver.common.by import By\n",
    "from selenium.webdriver.chrome.options import Options\n",
    "from webdriver_manager.chrome import ChromeDriverManager\n",
    "import pandas as pd\n",
    "import time\n",
    "import re\n",
    "\n",
    "# === Setup Chrome ===\n",
    "options = Options()\n",
    "options.add_argument(\"--start-maximized\")\n",
    "options.add_argument(\"--disable-blink-features=AutomationControlled\")\n",
    "\n",
    "driver = webdriver.Chrome(service=Service(ChromeDriverManager().install()), options=options)\n",
    "\n",
    "# === Login manually ===\n",
    "driver.get(\"https://www.zhihu.com/question/460425718\")\n",
    "input(\"🔐 Log in to Zhihu manually, then press Enter here to continue...\")\n",
    "\n",
    "# === Scroll settings ===\n",
    "driver.set_script_timeout(60)\n",
    "scroll_pause_time = 3.5\n",
    "scroll_position = 0\n",
    "increment = 500\n",
    "scroll_count = 0\n",
    "max_same_scrolls = 10\n",
    "same_scroll_count = 0\n",
    "start_time = time.time()\n",
    "time_limit_sec = 9000\n",
    "last_scroll_height = 0\n",
    "\n",
    "while True:\n",
    "    if time.time() - start_time > time_limit_sec:\n",
    "        print(\"⏰ Time limit reached.\")\n",
    "        break\n",
    "\n",
    "    try:\n",
    "        scroll_height = driver.execute_script(\"return document.body.scrollHeight\")\n",
    "    except:\n",
    "        scroll_height = scroll_position + increment * 2\n",
    "\n",
    "    scroll_position += increment\n",
    "    driver.execute_script(f\"window.scrollTo(0, {scroll_position});\")\n",
    "    time.sleep(scroll_pause_time)\n",
    "    scroll_count += 1\n",
    "\n",
    "    if scroll_position >= scroll_height:\n",
    "        same_scroll_count += 1\n",
    "    else:\n",
    "        same_scroll_count = 0\n",
    "\n",
    "    if same_scroll_count >= max_same_scrolls:\n",
    "        print(\"✅ No more content to scroll.\")\n",
    "        break\n",
    "\n",
    "print(f\"🔁 Finished scrolling after {scroll_count} scrolls.\")\n",
    "time.sleep(5)\n",
    "\n",
    "# === Extract answers ===\n",
    "answer_blocks = driver.find_elements(By.CSS_SELECTOR, \".List-item\")\n",
    "answers_data = []\n",
    "\n",
    "for block in answer_blocks:\n",
    "    try:\n",
    "        author = block.find_element(By.CSS_SELECTOR, \"meta[itemprop='name']\").get_attribute(\"content\").strip()\n",
    "    except:\n",
    "        author = \"\"\n",
    "\n",
    "    try:\n",
    "        answer = block.find_element(By.CSS_SELECTOR, \".RichContent-inner\").text.strip()\n",
    "    except:\n",
    "        answer = \"\"\n",
    "\n",
    "    try:\n",
    "        upvote_text = block.find_element(By.CSS_SELECTOR, \".css-1lr85n\").text.strip()\n",
    "        upvotes = re.search(r\"(\\d+)\", upvote_text).group(1)\n",
    "    except:\n",
    "        upvotes = \"\"\n",
    "\n",
    "    try:\n",
    "        full_text = block.text\n",
    "        comments_match = re.search(r\"(\\d+)\\s*条评论\", full_text)\n",
    "        comments = comments_match.group(1) if comments_match else \"\"\n",
    "    except:\n",
    "        comments = \"\"\n",
    "\n",
    "    try:\n",
    "        # Match text like \"发布于 2022-06-15\"\n",
    "        post_date_element = block.find_element(By.XPATH, \".//*[contains(text(), '发布于')]\")\n",
    "        post_date_match = re.search(r\"发布于\\s+(\\d{4}-\\d{2}-\\d{2})\", post_date_element.text)\n",
    "        post_date = post_date_match.group(1) if post_date_match else \"\"\n",
    "    except:\n",
    "        post_date = \"\"\n",
    "\n",
    "    answers_data.append({\n",
    "        \"Author\": author,\n",
    "        \"Date\": post_date,\n",
    "        \"Upvotes\": upvotes,\n",
    "        \"Comments\": comments,\n",
    "        \"Answer\": answer\n",
    "    })\n",
    "\n",
    "# === Save to CSV ===\n",
    "df = pd.DataFrame(answers_data)\n",
    "df.to_csv(\"zhihu_answers_full.csv\", index=False, encoding=\"utf-8-sig\")\n",
    "print(f\"✅ Done. {len(df)} answers saved to 'zhihu_answers_full.csv'\")\n",
    "\n",
    "driver.quit()\n"
   ]
  },
  {
   "cell_type": "code",
   "execution_count": 142,
   "id": "0d7ec62c-aab1-4324-86a7-407c8f0240cd",
   "metadata": {},
   "outputs": [
    {
     "data": {
      "text/html": [
       "<a href='zhihu_answers_full.csv' target='_blank'>zhihu_answers_full.csv</a><br>"
      ],
      "text/plain": [
       "C:\\Users\\melin\\zhihu_answers_full.csv"
      ]
     },
     "execution_count": 142,
     "metadata": {},
     "output_type": "execute_result"
    }
   ],
   "source": [
    "from IPython.display import FileLink\n",
    "\n",
    "# Display a clickable download link\n",
    "FileLink(\"zhihu_answers_full.csv\")"
   ]
  }
 ],
 "metadata": {
  "kernelspec": {
   "display_name": "Python [conda env:base] *",
   "language": "python",
   "name": "conda-base-py"
  },
  "language_info": {
   "codemirror_mode": {
    "name": "ipython",
    "version": 3
   },
   "file_extension": ".py",
   "mimetype": "text/x-python",
   "name": "python",
   "nbconvert_exporter": "python",
   "pygments_lexer": "ipython3",
   "version": "3.12.7"
  }
 },
 "nbformat": 4,
 "nbformat_minor": 5
}
